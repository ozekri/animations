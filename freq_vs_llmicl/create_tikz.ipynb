{
 "cells": [
  {
   "cell_type": "code",
   "execution_count": 28,
   "metadata": {},
   "outputs": [
    {
     "name": "stdout",
     "output_type": "stream",
     "text": [
      "[[[nan, nan, nan], [1.0, 0.0, 0.0], [nan, nan, nan]], [[1.0, 0.0, 0.0], [1.0, 0.0, 0.0], [nan, nan, nan]], [[0.5, 0.0, 0.5], [1.0, 0.0, 0.0], [nan, nan, nan]], [[0.5, 0.0, 0.5], [1.0, 0.0, 0.0], [0.0, 0.0, 1.0]], [[0.5, 0.0, 0.5], [1.0, 0.0, 0.0], [0.0, 0.0, 1.0]], [[0.5, 0.0, 0.5], [1.0, 0.0, 0.0], [0.0, 0.3333333333333333, 0.6666666666666666]], [[0.5, 0.0, 0.5], [1.0, 0.0, 0.0], [0.0, 0.3333333333333333, 0.6666666666666666]], [[0.6666666666666666, 0.0, 0.3333333333333333], [1.0, 0.0, 0.0], [0.0, 0.3333333333333333, 0.6666666666666666]], [[0.5, 0.25, 0.25], [1.0, 0.0, 0.0], [0.0, 0.3333333333333333, 0.6666666666666666]], [[0.5, 0.25, 0.25], [0.6666666666666666, 0.0, 0.3333333333333333], [0.0, 0.3333333333333333, 0.6666666666666666]], [[0.5, 0.25, 0.25], [0.6666666666666666, 0.0, 0.3333333333333333], [0.0, 0.25, 0.75]], [[0.5, 0.25, 0.25], [0.6666666666666666, 0.0, 0.3333333333333333], [0.2, 0.2, 0.6]], [[0.6, 0.2, 0.2], [0.6666666666666666, 0.0, 0.3333333333333333], [0.2, 0.2, 0.6]], [[0.6666666666666666, 0.16666666666666666, 0.16666666666666666], [0.6666666666666666, 0.0, 0.3333333333333333], [0.2, 0.2, 0.6]], [[0.7142857142857143, 0.14285714285714285, 0.14285714285714285], [0.6666666666666666, 0.0, 0.3333333333333333], [0.2, 0.2, 0.6]], [[0.625, 0.125, 0.25], [0.6666666666666666, 0.0, 0.3333333333333333], [0.2, 0.2, 0.6]], [[0.625, 0.125, 0.25], [0.6666666666666666, 0.0, 0.3333333333333333], [0.16666666666666666, 0.16666666666666666, 0.6666666666666666]], [[0.625, 0.125, 0.25], [0.6666666666666666, 0.0, 0.3333333333333333], [0.14285714285714285, 0.2857142857142857, 0.5714285714285714]], [[0.625, 0.125, 0.25], [0.75, 0.0, 0.25], [0.14285714285714285, 0.2857142857142857, 0.5714285714285714]]]\n",
      "[[0.625, 0.125, 0.25], [0.75, 0.0, 0.25], [0.14285714285714285, 0.2857142857142857, 0.5714285714285714]]\n",
      "[[[0.0, 0.0, 0.0], [1.0, 0.0, 0.0], [0.0, 0.0, 0.0]], [[1.0, 0.0, 0.0], [1.0, 0.0, 0.0], [0.0, 0.0, 0.0]], [[0.5, 0.0, 0.5], [1.0, 0.0, 0.0], [0.0, 0.0, 0.0]], [[0.5, 0.0, 0.5], [1.0, 0.0, 0.0], [0.0, 0.0, 1.0]], [[0.5, 0.0, 0.5], [1.0, 0.0, 0.0], [0.0, 0.0, 1.0]], [[0.5, 0.0, 0.5], [1.0, 0.0, 0.0], [0.0, 0.3333333333333333, 0.6666666666666666]], [[0.5, 0.0, 0.5], [1.0, 0.0, 0.0], [0.0, 0.3333333333333333, 0.6666666666666666]], [[0.6666666666666666, 0.0, 0.3333333333333333], [1.0, 0.0, 0.0], [0.0, 0.3333333333333333, 0.6666666666666666]], [[0.5, 0.25, 0.25], [1.0, 0.0, 0.0], [0.0, 0.3333333333333333, 0.6666666666666666]], [[0.5, 0.25, 0.25], [0.6666666666666666, 0.0, 0.3333333333333333], [0.0, 0.3333333333333333, 0.6666666666666666]], [[0.5, 0.25, 0.25], [0.6666666666666666, 0.0, 0.3333333333333333], [0.0, 0.25, 0.75]], [[0.5, 0.25, 0.25], [0.6666666666666666, 0.0, 0.3333333333333333], [0.2, 0.2, 0.6]], [[0.6, 0.2, 0.2], [0.6666666666666666, 0.0, 0.3333333333333333], [0.2, 0.2, 0.6]], [[0.6666666666666666, 0.16666666666666666, 0.16666666666666666], [0.6666666666666666, 0.0, 0.3333333333333333], [0.2, 0.2, 0.6]], [[0.7142857142857143, 0.14285714285714285, 0.14285714285714285], [0.6666666666666666, 0.0, 0.3333333333333333], [0.2, 0.2, 0.6]], [[0.625, 0.125, 0.25], [0.6666666666666666, 0.0, 0.3333333333333333], [0.2, 0.2, 0.6]], [[0.625, 0.125, 0.25], [0.6666666666666666, 0.0, 0.3333333333333333], [0.16666666666666666, 0.16666666666666666, 0.6666666666666666]], [[0.625, 0.125, 0.25], [0.6666666666666666, 0.0, 0.3333333333333333], [0.14285714285714285, 0.2857142857142857, 0.5714285714285714]], [[0.625, 0.125, 0.25], [0.75, 0.0, 0.25], [0.14285714285714285, 0.2857142857142857, 0.5714285714285714]]]\n",
      "[[[0.0, 0.0, 0.0], [0.0, 0.0, 0.0], [0.0, 0.0, 0.0]], [[0.0, 0.0, 0.0], [1.0, 0.0, 0.0], [0.0, 0.0, 0.0]], [[1.0, 0.0, 0.0], [1.0, 0.0, 0.0], [0.0, 0.0, 0.0]], [[0.5, 0.0, 0.5], [1.0, 0.0, 0.0], [0.0, 0.0, 0.0]], [[0.5, 0.0, 0.5], [1.0, 0.0, 0.0], [0.0, 0.0, 1.0]], [[0.5, 0.0, 0.5], [1.0, 0.0, 0.0], [0.0, 0.0, 1.0]], [[0.5, 0.0, 0.5], [1.0, 0.0, 0.0], [0.0, 0.3333333333333333, 0.6666666666666666]], [[0.5, 0.0, 0.5], [1.0, 0.0, 0.0], [0.0, 0.3333333333333333, 0.6666666666666666]], [[0.6666666666666666, 0.0, 0.3333333333333333], [1.0, 0.0, 0.0], [0.0, 0.3333333333333333, 0.6666666666666666]], [[0.5, 0.25, 0.25], [1.0, 0.0, 0.0], [0.0, 0.3333333333333333, 0.6666666666666666]], [[0.5, 0.25, 0.25], [0.6666666666666666, 0.0, 0.3333333333333333], [0.0, 0.3333333333333333, 0.6666666666666666]], [[0.5, 0.25, 0.25], [0.6666666666666666, 0.0, 0.3333333333333333], [0.0, 0.25, 0.75]], [[0.5, 0.25, 0.25], [0.6666666666666666, 0.0, 0.3333333333333333], [0.2, 0.2, 0.6]], [[0.6, 0.2, 0.2], [0.6666666666666666, 0.0, 0.3333333333333333], [0.2, 0.2, 0.6]], [[0.6666666666666666, 0.16666666666666666, 0.16666666666666666], [0.6666666666666666, 0.0, 0.3333333333333333], [0.2, 0.2, 0.6]], [[0.7142857142857143, 0.14285714285714285, 0.14285714285714285], [0.6666666666666666, 0.0, 0.3333333333333333], [0.2, 0.2, 0.6]], [[0.625, 0.125, 0.25], [0.6666666666666666, 0.0, 0.3333333333333333], [0.2, 0.2, 0.6]], [[0.625, 0.125, 0.25], [0.6666666666666666, 0.0, 0.3333333333333333], [0.16666666666666666, 0.16666666666666666, 0.6666666666666666]], [[0.625, 0.125, 0.25], [0.6666666666666666, 0.0, 0.3333333333333333], [0.14285714285714285, 0.2857142857142857, 0.5714285714285714]], [[0.625, 0.125, 0.25], [0.75, 0.0, 0.25], [0.14285714285714285, 0.2857142857142857, 0.5714285714285714]]]\n"
     ]
    }
   ],
   "source": [
    "import pickle\n",
    "import numpy as np\n",
    "\n",
    "# Chemin vers le fichier .pkl\n",
    "file_path = \"markov_chain_matrices.pkl\"\n",
    "#file_path = \"markov_chain_matrices_llm.pkl\"\n",
    "\n",
    "# Charger les données\n",
    "with open(file_path, 'rb') as file:\n",
    "    matrix_values_history = pickle.load(file)\n",
    "\n",
    "# Afficher les données pour vérifier\n",
    "print(matrix_values_history)\n",
    "\n",
    "print(matrix_values_history[-1])\n",
    "\n",
    "matrix_values_history = [\n",
    "    np.nan_to_num(matrix, nan=0).tolist() for matrix in matrix_values_history\n",
    "]\n",
    "print(matrix_values_history)\n",
    "matrix_values_history.insert(0,[[0.0, 0.0, 0.0], [0.0, 0.0, 0.0], [0.0, 0.0, 0.0]])\n",
    "print(matrix_values_history)"
   ]
  },
  {
   "cell_type": "code",
   "execution_count": 7,
   "metadata": {},
   "outputs": [
    {
     "name": "stdout",
     "output_type": "stream",
     "text": [
      "20\n"
     ]
    }
   ],
   "source": [
    "print(len(matrix_values_history))"
   ]
  },
  {
   "cell_type": "code",
   "execution_count": null,
   "metadata": {},
   "outputs": [],
   "source": [
    "probas_extracted = []\n",
    "for idx, elem in enumerate(\"10022210012200002210\"):\n",
    "    probas_extracted.append(matrix_values_history[idx][int(elem)])"
   ]
  },
  {
   "cell_type": "code",
   "execution_count": 29,
   "metadata": {},
   "outputs": [
    {
     "name": "stdout",
     "output_type": "stream",
     "text": [
      "0\n",
      "1\n",
      "2\n",
      "3\n",
      "4\n",
      "5\n",
      "6\n",
      "7\n",
      "8\n",
      "9\n",
      "10\n",
      "11\n",
      "12\n",
      "13\n",
      "14\n",
      "15\n",
      "16\n",
      "17\n",
      "18\n"
     ]
    }
   ],
   "source": [
    "probas_extracted = [[0.0, 0.0, 0.0]]\n",
    "for idx, elem in enumerate(\"10022210012200002210\"):\n",
    "    if idx != 19:\n",
    "        probas_extracted.append(matrix_values_history[idx+1][int(elem)])\n",
    "        print(idx)\n"
   ]
  },
  {
   "cell_type": "code",
   "execution_count": 30,
   "metadata": {},
   "outputs": [
    {
     "name": "stdout",
     "output_type": "stream",
     "text": [
      "[[0.0, 0.0, 0.0], [1.0, 0.0, 0.0], [1.0, 0.0, 0.0], [0.5, 0.0, 0.5], [0.0, 0.0, 1.0], [0.0, 0.0, 1.0], [0.0, 0.3333333333333333, 0.6666666666666666], [1.0, 0.0, 0.0], [0.6666666666666666, 0.0, 0.3333333333333333], [0.5, 0.25, 0.25], [0.6666666666666666, 0.0, 0.3333333333333333], [0.0, 0.25, 0.75], [0.2, 0.2, 0.6], [0.6, 0.2, 0.2], [0.6666666666666666, 0.16666666666666666, 0.16666666666666666], [0.7142857142857143, 0.14285714285714285, 0.14285714285714285], [0.625, 0.125, 0.25], [0.16666666666666666, 0.16666666666666666, 0.6666666666666666], [0.14285714285714285, 0.2857142857142857, 0.5714285714285714], [0.75, 0.0, 0.25]]\n"
     ]
    }
   ],
   "source": [
    "print(probas_extracted)"
   ]
  },
  {
   "cell_type": "code",
   "execution_count": 35,
   "metadata": {},
   "outputs": [],
   "source": [
    "def format_number_with_zeros(number, k):\n",
    "    return f\"{number:0{k}d}\""
   ]
  },
  {
   "cell_type": "code",
   "execution_count": 38,
   "metadata": {},
   "outputs": [
    {
     "name": "stdout",
     "output_type": "stream",
     "text": [
      "03\n",
      "00123\n",
      "Les fichiers TikZ ont été générés dans le dossier 'tikz_figures_freq2'.\n"
     ]
    }
   ],
   "source": [
    "import os\n",
    "\n",
    "# Code TikZ de base\n",
    "tikz_template = r\"\"\"\n",
    "\\documentclass{{standalone}}\n",
    "\\usepackage{{tikz}}\n",
    "\n",
    "% Définir le nombre d'états\n",
    "\\def\\N{{3}}\n",
    "% Définir les couleurs basées sur la palette Cubhelix\n",
    "\\definecolor{{cubhelix0}}{{RGB}}{{218, 59, 70}}\n",
    "\\definecolor{{cubhelix1}}{{RGB}}{{58, 133, 75}}\n",
    "\\definecolor{{cubhelix2}}{{RGB}}{{63, 127, 147}}\n",
    "\n",
    "% Définir un style personnalisé pour les étiquettes des flèches\n",
    "\\tikzset{{\n",
    "    arrow label/.style={{\n",
    "        font=\\Large\\sffamily,\n",
    "        inner sep=3pt\n",
    "    }}\n",
    "}}\n",
    "\n",
    "\\begin{{document}}\n",
    "\n",
    "\\begin{{tikzpicture}}[->, auto, thick, node distance=4cm, >=latex] \n",
    "\n",
    "    \\tikzstyle{{state0}} = [\n",
    "        circle, \n",
    "        draw=cubhelix0, \n",
    "        line width=1.5pt, \n",
    "        text=cubhelix0, \n",
    "        minimum size=1cm, \n",
    "        font=\\large\\sffamily\\bfseries\n",
    "    ]\n",
    "    \\tikzstyle{{state1}} = [\n",
    "        circle, \n",
    "        draw=cubhelix1, \n",
    "        line width=1.5pt, \n",
    "        text=cubhelix1, \n",
    "        minimum size=1cm, \n",
    "        font=\\large\\sffamily\\bfseries\n",
    "    ]\n",
    "    \\tikzstyle{{state2}} = [\n",
    "        circle, \n",
    "        draw=cubhelix2, \n",
    "        line width=1.5pt, \n",
    "        text=cubhelix2, \n",
    "        minimum size=1cm, \n",
    "        font=\\large\\sffamily\\bfseries\n",
    "    ]\n",
    "\n",
    "    % Créer les nœuds\n",
    "    \\node[state0] (0) at (0,0) {{0}};\n",
    "    \\node[state1] (1) at (2,3) {{1}};\n",
    "    \\node[state2] (2) at (4,0) {{2}};\n",
    "\n",
    "    % Dessiner les arêtes avec des flèches améliorées\n",
    "    \\path[->, very thick, >=latex, draw=black] \n",
    "        (0) edge [loop left, distance=1cm, out=200, in=225] node[arrow label, left] {{{val00}}} (0)\n",
    "            edge [bend left=20] node[arrow label, left] {{{val01}}} (1)\n",
    "            edge [bend left=15] node[arrow label, above] {{{val02}}} (2)\n",
    "        (1) edge [loop above, distance=1cm, out=75, in=100] node[arrow label, above] {{{val11}}} (1)\n",
    "            edge [bend left=20] node[arrow label, left] {{{val10}}} (0)\n",
    "            edge [bend left=20] node[arrow label, right] {{{val12}}} (2)\n",
    "        (2) edge [loop right, distance=1cm, out=-50, in=-25] node[arrow label, right] {{{val22}}} (2)\n",
    "            edge [bend left=15] node[arrow label, below] {{{val20}}} (0)\n",
    "            edge [bend left=20] node[arrow label, right] {{{val21}}} (1);\n",
    "\n",
    "\\end{{tikzpicture}}\n",
    "\n",
    "\\end{{document}}\n",
    "\"\"\"\n",
    "\n",
    "# Créer un dossier pour stocker les fichiers\n",
    "output_dir = \"tikz_figures_freq2\"\n",
    "os.makedirs(output_dir, exist_ok=True)\n",
    "\n",
    "def format_number_with_zeros(number, k):\n",
    "    return f\"{number:0{k}d}\"\n",
    "\n",
    "# Exemple d'utilisation\n",
    "print(format_number_with_zeros(3, 2))  # Affiche '03'\n",
    "print(format_number_with_zeros(123, 5))  # Affiche '00123'\n",
    "\n",
    "\n",
    "# Générer les fichiers .tex\n",
    "for i, matrix in enumerate(matrix_values_history):\n",
    "    tikz_code = tikz_template.format(\n",
    "        val00=f\"{matrix[0][0]:.2f}\", val01=f\"{matrix[0][1]:.2f}\", val02=f\"{matrix[0][2]:.2f}\",\n",
    "        val10=f\"{matrix[1][0]:.2f}\", val11=f\"{matrix[1][1]:.2f}\", val12=f\"{matrix[1][2]:.2f}\",\n",
    "        val20=f\"{matrix[2][0]:.2f}\", val21=f\"{matrix[2][1]:.2f}\", val22=f\"{matrix[2][2]:.2f}\"\n",
    "    )\n",
    "    file_path = os.path.join(output_dir, f\"matrix_{format_number_with_zeros(i+1,2)}.tex\")\n",
    "    with open(file_path, \"w\") as f:\n",
    "        f.write(tikz_code)\n",
    "\n",
    "print(f\"Les fichiers TikZ ont été générés dans le dossier '{output_dir}'.\")"
   ]
  },
  {
   "cell_type": "code",
   "execution_count": 1,
   "metadata": {},
   "outputs": [
    {
     "name": "stdout",
     "output_type": "stream",
     "text": [
      "20 LaTeX files have been generated in samples_figures_freq.\n"
     ]
    }
   ],
   "source": [
    "template = r\"\"\"\n",
    "\\documentclass{standalone}\n",
    "\\usepackage{tikz}\n",
    "\\usepackage{xcolor} % Pour la gestion des couleurs\n",
    "\n",
    "% Définir les couleurs basées sur la palette Cubhelix\n",
    "\\definecolor{cubhelix0}{RGB}{218, 59, 70}\n",
    "\\definecolor{cubhelix1}{RGB}{58, 133, 75}\n",
    "\\definecolor{cubhelix2}{RGB}{63, 127, 147}\n",
    "\n",
    "\\begin{document}\n",
    "\n",
    "\\begin{tikzpicture}[node distance=4cm, >=latex, auto, thick]\n",
    "\n",
    "    % Ajouter la séquence colorée\n",
    "    \\node[below=2cm of 0] {%\n",
    "        \\large\\sffamily\\bfseries\n",
    "        \\textcolor{cubhelix1}{1}%\n",
    "        \\textcolor{cubhelix0}{0}%\n",
    "        \\textcolor{cubhelix0}{0}%\n",
    "        \\textcolor{cubhelix2}{2}%\n",
    "        \\textcolor{cubhelix2}{2}%\n",
    "        \\textcolor{cubhelix2}{2}%\n",
    "        \\textcolor{cubhelix1}{1}%\n",
    "        \\textcolor{cubhelix0}{0}%\n",
    "        \\textcolor{cubhelix0}{0}%\n",
    "        \\textcolor{cubhelix1}{1}%\n",
    "        \\textcolor{cubhelix2}{2}%\n",
    "        \\textcolor{cubhelix2}{2}%\n",
    "        \\textcolor{cubhelix0}{0}%\n",
    "        \\textcolor{cubhelix0}{0}%\n",
    "        \\textcolor{cubhelix0}{0}%\n",
    "        \\textcolor{cubhelix0}{0}%\n",
    "        \\textcolor{cubhelix2}{2}%\n",
    "        \\textcolor{cubhelix2}{2}%\n",
    "        \\textcolor{cubhelix1}{{\\phantom{X}}}%\n",
    "        \\textcolor{cubhelix0}{0}%\n",
    "    };\n",
    "\n",
    "\\end{tikzpicture}\n",
    "\n",
    "\\end{document}\n",
    "\"\"\"\n",
    "\n",
    "output_directory = \"samples_figures_freq\"  # Specify the directory where files will be saved\n",
    "\n",
    "import os\n",
    "\n",
    "os.makedirs(output_directory, exist_ok=True)\n",
    "\n",
    "for i in range(20):\n",
    "    # Replace the `\\phantom{X}` with the current number\n",
    "    content = template.replace(r\"\\phantom{X}\", str(i))\n",
    "    \n",
    "    # Write to a new file\n",
    "    file_path = os.path.join(output_directory, f\"file_{i}.tex\")\n",
    "    with open(file_path, \"w\", encoding=\"utf-8\") as f:\n",
    "        f.write(content)\n",
    "\n",
    "print(f\"20 LaTeX files have been generated in {output_directory}.\")\n"
   ]
  },
  {
   "cell_type": "code",
   "execution_count": 2,
   "metadata": {},
   "outputs": [
    {
     "name": "stdout",
     "output_type": "stream",
     "text": [
      "20 LaTeX files have been generated in samples_figures_freq.\n"
     ]
    }
   ],
   "source": [
    "template_start = r\"\"\"\n",
    "\\documentclass{standalone}\n",
    "\\usepackage{tikz}\n",
    "\\usepackage{xcolor} % Pour la gestion des couleurs\n",
    "\n",
    "% Définir les couleurs basées sur la palette Cubhelix\n",
    "\\definecolor{cubhelix0}{RGB}{218, 59, 70}\n",
    "\\definecolor{cubhelix1}{RGB}{58, 133, 75}\n",
    "\\definecolor{cubhelix2}{RGB}{63, 127, 147}\n",
    "\n",
    "\\begin{document}\n",
    "\n",
    "\\begin{tikzpicture}[node distance=4cm, >=latex, auto, thick]\n",
    "\n",
    "    % Ajouter la séquence colorée\n",
    "    \\node[below=2cm of 0] {%\n",
    "        \\large\\sffamily\\bfseries\n",
    "\"\"\"\n",
    "\n",
    "template_end = r\"\"\"\n",
    "    };\n",
    "\n",
    "\\end{tikzpicture}\n",
    "\n",
    "\\end{document}\n",
    "\"\"\"\n",
    "\n",
    "# Séquence de caractères\n",
    "sequence = [\n",
    "    r\"\\textcolor{cubhelix1}{1}\",\n",
    "    r\"\\textcolor{cubhelix0}{0}\",\n",
    "    r\"\\textcolor{cubhelix0}{0}\",\n",
    "    r\"\\textcolor{cubhelix2}{2}\",\n",
    "    r\"\\textcolor{cubhelix2}{2}\",\n",
    "    r\"\\textcolor{cubhelix2}{2}\",\n",
    "    r\"\\textcolor{cubhelix1}{1}\",\n",
    "    r\"\\textcolor{cubhelix0}{0}\",\n",
    "    r\"\\textcolor{cubhelix0}{0}\",\n",
    "    r\"\\textcolor{cubhelix1}{1}\",\n",
    "    r\"\\textcolor{cubhelix2}{2}\",\n",
    "    r\"\\textcolor{cubhelix2}{2}\",\n",
    "    r\"\\textcolor{cubhelix0}{0}\",\n",
    "    r\"\\textcolor{cubhelix0}{0}\",\n",
    "    r\"\\textcolor{cubhelix0}{0}\",\n",
    "    r\"\\textcolor{cubhelix0}{0}\",\n",
    "    r\"\\textcolor{cubhelix2}{2}\",\n",
    "    r\"\\textcolor{cubhelix2}{2}\",\n",
    "    r\"\\textcolor{cubhelix1}{1}\",\n",
    "    r\"\\textcolor{cubhelix0}{0}\"\n",
    "]\n",
    "\n",
    "import os\n",
    "\n",
    "# Créer un répertoire pour les fichiers générés\n",
    "output_directory = \"samples_figures_freq\"\n",
    "os.makedirs(output_directory, exist_ok=True)\n",
    "\n",
    "# Générer les fichiers\n",
    "for i in range(20):\n",
    "    content = \"\"\n",
    "    for j in range(len(sequence)):\n",
    "        if j <= i:\n",
    "            content += sequence[j]\n",
    "        else:\n",
    "            content += r\"\\phantom{\" + sequence[j] + \"}\"\n",
    "    tex_content = template_start + content + template_end\n",
    "    file_path = os.path.join(output_directory, f\"file_{i}.tex\")\n",
    "    with open(file_path, \"w\", encoding=\"utf-8\") as f:\n",
    "        f.write(tex_content)\n",
    "\n",
    "print(f\"20 LaTeX files have been generated in {output_directory}.\")\n"
   ]
  },
  {
   "cell_type": "code",
   "execution_count": 31,
   "metadata": {},
   "outputs": [
    {
     "data": {
      "image/png": "[encoded data removed]",
      "text/plain": [
       "<Figure size 1200x210 with 1 Axes>"
      ]
     },
     "metadata": {},
     "output_type": "display_data"
    }
   ],
   "source": [
    "import matplotlib.pyplot as plt\n",
    "\n",
    "n=3\n",
    "true_dist = [0.3,0.3,0.4]\n",
    "fig, axs = plt.subplots(1, 1, figsize=(4, 0.7), dpi=300)\n",
    "plt.bar(range(n), true_dist, color='dodgerblue')\n",
    "axs.annotate('', xy=(1, 0), xycoords='axes fraction', xytext=(0, 0), \n",
    "             arrowprops=dict(arrowstyle=\"->\", color='k'))\n",
    "axs.annotate('', xy=(0, 1.3), xycoords='axes fraction', xytext=(0, 0), \n",
    "             arrowprops=dict(arrowstyle=\"->\", color='k'))\n",
    "\n",
    "# Définir les ticks de l'axe des x\n",
    "axs.set_xticks([0, 1, 2])  # Affiche uniquement 0, 1 et 2\n",
    "axs.set_xticklabels(\n",
    "    ['0', '1', '2'] # Taille des labels\n",
    ")\n",
    "\n",
    "\n",
    "# Personnaliser chaque tick\n",
    "ticks = axs.get_xticklabels()\n",
    "ticks[0].set_color('#DA3B46')   # Couleur rouge pour 0\n",
    "ticks[1].set_color('#3A854B') # Couleur verte pour 1\n",
    "ticks[2].set_color('#3F7F93')  # Couleur bleue pour 2\n",
    "\n",
    "# Mettre les ticks en gras\n",
    "for tick in ticks:\n",
    "    tick.set_fontweight('bold')\n",
    "\n",
    "axs.spines['right'].set_visible(False)\n",
    "axs.spines['top'].set_visible(False)\n",
    "axs.spines['left'].set_visible(False)\n",
    "axs.spines['bottom'].set_visible(False)\n",
    "axs.set_ylim(0, 1)  # Fixer l'axe y de 0 à 1 (pour les données)\n",
    "axs.set_yticks([1])  # Supprimer les ticks de l'axe y\n",
    "\n",
    "# Ajuster la taille des ticks sur les axes\n",
    "axs.tick_params(axis='x', labelsize=20)  # Taille des ticks de l'axe X\n",
    "axs.tick_params(axis='y', labelsize=12)  # Taille des ticks de l'axe Y (si nécessaire)"
   ]
  },
  {
   "cell_type": "code",
   "execution_count": 37,
   "metadata": {},
   "outputs": [
    {
     "name": "stdout",
     "output_type": "stream",
     "text": [
      "Toutes les figures ont été sauvegardées dans le dossier 'probas_outputed_freq'\n"
     ]
    }
   ],
   "source": [
    "import os\n",
    "# Définir le nombre d'états\n",
    "n = 3\n",
    "\n",
    "# Créer le dossier de sauvegarde\n",
    "output_dir = \"probas_outputed_freq\"\n",
    "os.makedirs(output_dir, exist_ok=True)\n",
    "\n",
    "# Générer les figures\n",
    "for i, true_dist in enumerate(probas_extracted):\n",
    "    # Créer une nouvelle figure\n",
    "    fig, axs = plt.subplots(1, 1, figsize=(4, 0.7), dpi=300)\n",
    "    \n",
    "    # Tracer le graphique à barres\n",
    "    axs.bar(range(n), true_dist, color='dodgerblue')\n",
    "    \n",
    "    # Ajouter les flèches pour les axes\n",
    "    axs.annotate('', xy=(1, 0), xycoords='axes fraction', xytext=(0, 0), \n",
    "                 arrowprops=dict(arrowstyle=\"->\", color='k'))\n",
    "    axs.annotate('', xy=(0, 1.3), xycoords='axes fraction', xytext=(0, 0), \n",
    "                 arrowprops=dict(arrowstyle=\"->\", color='k'))\n",
    "    \n",
    "    # Définir les ticks de l'axe des x\n",
    "    axs.set_xticks([0, 1, 2])  # Affiche uniquement 0, 1 et 2\n",
    "    axs.set_xticklabels(\n",
    "    ['0', '1', '2'] # Taille des labels\n",
    "    )\n",
    "\n",
    "    # Personnaliser chaque tick\n",
    "    ticks = axs.get_xticklabels()\n",
    "    ticks[0].set_color('#DA3B46')   # Couleur rouge pour 0\n",
    "    ticks[1].set_color('#3A854B') # Couleur verte pour 1\n",
    "    ticks[2].set_color('#3F7F93')  # Couleur bleue pour 2\n",
    "\n",
    "    # Mettre les ticks en gras\n",
    "    for tick in ticks:\n",
    "        tick.set_fontweight('bold')\n",
    "    \n",
    "    # Cacher les spines inutiles et ajuster les limites\n",
    "    axs.spines['right'].set_visible(False)\n",
    "    axs.spines['top'].set_visible(False)\n",
    "    axs.spines['left'].set_visible(False)\n",
    "    axs.spines['bottom'].set_visible(False)\n",
    "    axs.set_ylim(0, 1)  # Fixer l'axe y de 0 à 1 (pour les données)\n",
    "    axs.set_yticks([1])  # Supprimer les ticks de l'axe y\n",
    "    \n",
    "    axs.tick_params(axis='x', labelsize=20)  # Taille des ticks de l'axe X\n",
    "    axs.tick_params(axis='y', labelsize=12)  # Taille des ticks de l'axe Y (si nécessaire)\n",
    "    \n",
    "    # Sauvegarder la figure en PDF\n",
    "    filename = os.path.join(output_dir, f\"figure_{format_number_with_zeros(i + 1,2)}.pdf\")\n",
    "    plt.savefig(filename, format=\"pdf\", bbox_inches=\"tight\")\n",
    "    \n",
    "    # Fermer la figure pour libérer la mémoire\n",
    "    plt.close(fig)\n",
    "\n",
    "print(f\"Toutes les figures ont été sauvegardées dans le dossier '{output_dir}'\")"
   ]
  },
  {
   "cell_type": "code",
   "execution_count": null,
   "metadata": {},
   "outputs": [],
   "source": []
  }
 ],
 "metadata": {
  "kernelspec": {
   "display_name": "tests",
   "language": "python",
   "name": "python3"
  },
  "language_info": {
   "codemirror_mode": {
    "name": "ipython",
    "version": 3
   },
   "file_extension": ".py",
   "mimetype": "text/x-python",
   "name": "python",
   "nbconvert_exporter": "python",
   "pygments_lexer": "ipython3",
   "version": "3.11.5"
  }
 },
 "nbformat": 4,
 "nbformat_minor": 2
}
